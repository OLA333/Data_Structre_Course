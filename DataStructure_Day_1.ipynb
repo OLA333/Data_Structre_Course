{
  "nbformat": 4,
  "nbformat_minor": 0,
  "metadata": {
    "colab": {
      "name": "DataStructure_Day_1.ipynb",
      "provenance": []
    },
    "kernelspec": {
      "name": "python3",
      "display_name": "Python 3"
    }
  },
  "cells": [
    {
      "cell_type": "markdown",
      "metadata": {
        "id": "HYVsJtxK51hK"
      },
      "source": [
        "# Question - 1"
      ]
    },
    {
      "cell_type": "code",
      "metadata": {
        "id": "dutZiJDk3l2z"
      },
      "source": [
        "x=int(input('first number is :'))\r\n",
        "y=int(input('second number is :'))\r\n",
        "print('x power y:',x**y)"
      ],
      "execution_count": null,
      "outputs": []
    },
    {
      "cell_type": "markdown",
      "metadata": {
        "id": "CtGEONP46Miz"
      },
      "source": [
        "\r\n",
        "# Question - 2\r\n",
        "\r\n"
      ]
    },
    {
      "cell_type": "code",
      "metadata": {
        "colab": {
          "base_uri": "https://localhost:8080/"
        },
        "id": "BcAKbEKX6D6i",
        "outputId": "a24e0b72-05b9-49ba-be9f-c7ec5d9dbe25"
      },
      "source": [
        "list= input('input element of the list').split()\r\n",
        "print(list)\r\n"
      ],
      "execution_count": 36,
      "outputs": [
        {
          "output_type": "stream",
          "text": [
            "input element of the list100 20 53 98 774 66 44 74 21 6 45 99 63 21 47\n",
            "['100', '20', '53', '98', '774', '66', '44', '74', '21', '6', '45', '99', '63', '21', '47']\n"
          ],
          "name": "stdout"
        }
      ]
    },
    {
      "cell_type": "code",
      "metadata": {
        "colab": {
          "base_uri": "https://localhost:8080/"
        },
        "id": "xI3MM3qK_1Qm",
        "outputId": "4921f139-34e6-4ea2-98c1-d32f614d777f"
      },
      "source": [
        "# convert elements of list from string to int\r\n",
        "list_int=[int(i) for i in list]\r\n",
        "list_int"
      ],
      "execution_count": 37,
      "outputs": [
        {
          "output_type": "execute_result",
          "data": {
            "text/plain": [
              "[100, 20, 53, 98, 774, 66, 44, 74, 21, 6, 45, 99, 63, 21, 47]"
            ]
          },
          "metadata": {
            "tags": []
          },
          "execution_count": 37
        }
      ]
    },
    {
      "cell_type": "code",
      "metadata": {
        "colab": {
          "base_uri": "https://localhost:8080/"
        },
        "id": "dQYwmV7--Ipz",
        "outputId": "4cf01e62-98f3-40b0-9bbf-c9c8cbd1df1b"
      },
      "source": [
        "# check if number divided by 3 \r\n",
        "div3=[i  for i in list_int  if i%3 == 0]\r\n",
        "div3\r\n"
      ],
      "execution_count": 38,
      "outputs": [
        {
          "output_type": "execute_result",
          "data": {
            "text/plain": [
              "[774, 66, 21, 6, 45, 99, 63, 21]"
            ]
          },
          "metadata": {
            "tags": []
          },
          "execution_count": 38
        }
      ]
    }
  ]
}